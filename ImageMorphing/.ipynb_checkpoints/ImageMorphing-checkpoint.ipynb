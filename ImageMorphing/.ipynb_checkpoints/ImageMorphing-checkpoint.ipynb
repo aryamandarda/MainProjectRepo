{
 "cells": [
  {
   "cell_type": "code",
   "execution_count": null,
   "id": "3eff42ca",
   "metadata": {},
   "outputs": [],
   "source": [
    "import math\n",
    "import time\n",
    "import glob\n",
    "import numpy as np\n",
    "import matplotlib.pyplot as plt\n",
    "from matplotlib import path\n",
    "from matplotlib.path import Path\n",
    "import matplotlib.animation as animation\n",
    "import skimage.transform as sktr\n",
    "import skimage.color as color\n",
    "import skimage.io as skio\n",
    "from skimage.draw import polygon\n",
    "import scipy.misc\n",
    "from scipy import interpolate\n",
    "from scipy.ndimage import map_coordinates\n",
    "from scipy.spatial import Delaunay\n",
    "import scipy\n",
    "from pylab import plot, ginput, show, axis\n",
    "import json\n",
    "import os\n",
    "\n",
    "plt.rcParams['figure.figsize'] = [8, 8]\n",
    "plt.rcParams['image.cmap'] = 'gray'\n",
    "\n",
    "%matplotlib inline"
   ]
  },
  {
   "cell_type": "code",
   "execution_count": null,
   "id": "fd678b3d",
   "metadata": {},
   "outputs": [],
   "source": [
    "def saveImage(img, name):\n",
    "    skio.imsave(\"output/\" + name + \".jpg\", img)"
   ]
  },
  {
   "cell_type": "code",
   "execution_count": null,
   "id": "1382c9cf",
   "metadata": {},
   "outputs": [],
   "source": [
    "my_face = skio.imread(\"data/Aryaman.jpg\")\n",
    "other_face = skio.imread(\"data/Obama.jpg\")\n",
    "\n",
    "# Resizing images\n",
    "# Had to convert to uint8 after resizing or was getting weird errors when computing the morphs.\n",
    "obama_h, obama_w = other_face.shape[0], other_face.shape[1]\n",
    "my_face = (sktr.resize(my_face, (obama_h, obama_w))*255).astype(np.uint8)\n",
    "\n",
    "plt.imshow(my_face)\n",
    "plt.title(\"Aryaman Darda\")\n",
    "plt.show()\n",
    "skio.imsave(\"output/Aryaman_resized.jpg\", my_face)\n",
    "\n",
    "\n",
    "plt.imshow(other_face)\n",
    "plt.title(\"Barack Obama\")\n",
    "plt.show()\n",
    "skio.imsave(\"output/Obama_resized.jpg\", other_face)\n",
    "\n"
   ]
  },
  {
   "cell_type": "markdown",
   "id": "06894209",
   "metadata": {},
   "source": [
    "## Part 1: Defining Correspondences"
   ]
  },
  {
   "cell_type": "markdown",
   "id": "72fdfc62",
   "metadata": {},
   "source": [
    "### Labelling"
   ]
  },
  {
   "cell_type": "markdown",
   "id": "893e83db",
   "metadata": {},
   "source": [
    "I used a tool from a previous semester to define the pairs of corresponding points between the 2 images: https://inst.eecs.berkeley.edu/~cs194-26/fa22/upload/files/proj3/cs194-26-aex/tool.html"
   ]
  },
  {
   "cell_type": "code",
   "execution_count": null,
   "id": "35ee9730",
   "metadata": {},
   "outputs": [],
   "source": [
    "with open(\"Aryaman_resized_Obama_resized.json\", 'r') as file:\n",
    "    correspondences = json.load(file)\n",
    "    \n",
    "print(correspondences)\n",
    "print(len(correspondences['im1Points']))"
   ]
  },
  {
   "cell_type": "markdown",
   "id": "2790e008",
   "metadata": {},
   "source": [
    "### Triangulation"
   ]
  },
  {
   "cell_type": "code",
   "execution_count": null,
   "id": "ab4d1efd",
   "metadata": {
    "scrolled": false
   },
   "outputs": [],
   "source": [
    "# Getting points for the \"mean face\"\n",
    "pts1 = np.array(correspondences['im1Points'])\n",
    "pts2 = np.array(correspondences['im2Points'])\n",
    "mean_pts = pts1 + 0.5 * (pts2 - pts1)\n",
    "\n",
    "# Computing and Displaying Triangle\n",
    "triangles = Delaunay(mean_pts)\n",
    "triPoints = triangles.simplices.copy()\n",
    "plt.figure()\n",
    "plt.imshow(my_face)\n",
    "plt.triplot(pts1[:,0], pts1[:,1], triPoints)\n",
    "plt.plot(pts1[:,0], pts1[:,1], 'r+')\n",
    "plt.savefig('output/triangulated_Aryaman.jpg')\n",
    "\n",
    "plt.figure()\n",
    "plt.imshow(other_face)\n",
    "plt.triplot(pts2[:,0], pts2[:,1], triPoints)\n",
    "plt.plot(pts2[:,0], pts2[:,1], 'r+')\n",
    "plt.savefig('output/triangulated_Obama.jpg')\n",
    "plt.show()"
   ]
  },
  {
   "cell_type": "markdown",
   "id": "ef924747",
   "metadata": {},
   "source": [
    "## Part 2: Computing the \"Mid-way Face\""
   ]
  },
  {
   "cell_type": "code",
   "execution_count": null,
   "id": "fe722db3",
   "metadata": {},
   "outputs": [],
   "source": [
    "print(triPoints)"
   ]
  },
  {
   "cell_type": "code",
   "execution_count": null,
   "id": "ea2d7641",
   "metadata": {},
   "outputs": [],
   "source": [
    "def compute_affine_transform(src_pts, dst_pts):\n",
    "    P0 = np.array([src_pts[:, 0], src_pts[:, 1], [1, 1, 1]])\n",
    "    P1 = np.array([dst_pts[:, 0], dst_pts[:, 1], [1, 1, 1]])\n",
    "    P0_inv = np.linalg.inv(P0)\n",
    "    T = np.dot(P1, P0_inv)\n",
    "    return np.linalg.inv(T)  # Return the inverse transform\n",
    "\n",
    "def bilinear_interpolate(img, x, y):\n",
    "    x = np.clip(x, 0, img.shape[1]-2)\n",
    "    y = np.clip(y, 0, img.shape[0]-2)\n",
    "    \n",
    "    x1, x2 = int(x), int(x) + 1\n",
    "    y1, y2 = int(y), int(y) + 1\n",
    "    \n",
    "    # Interpolate in x direction\n",
    "    R1 = (x2 - x) * img[y1, x1] + (x - x1) * img[y1, x2]\n",
    "    R2 = (x2 - x) * img[y2, x1] + (x - x1) * img[y2, x2]\n",
    "    \n",
    "    # Interpolate in y direction\n",
    "    P = (y2 - y) * R1 + (y - y1) * R2\n",
    "    \n",
    "    return P\n",
    "\n",
    "def warp_image(img, pts, dst_pts, tri):\n",
    "    warped_img = np.zeros_like(img)\n",
    "    \n",
    "    for triangle in tri:\n",
    "        src_triangle = pts[triangle]\n",
    "        dst_triangle = dst_pts[triangle]\n",
    "        \n",
    "        inv_transform = compute_affine_transform(src_triangle, dst_triangle)\n",
    "        \n",
    "        rr, cc = polygon(dst_triangle[:,1], dst_triangle[:,0])\n",
    "        \n",
    "        for r, c in zip(rr, cc):\n",
    "            src = np.dot(inv_transform, [c, r, 1])\n",
    "            color = bilinear_interpolate(img, src[0], src[1])\n",
    "            warped_img[int(r), int(c)] = color\n",
    "            \n",
    "    return warped_img\n",
    "\n",
    "def morph_images(img1, pts1, img2, pts2, tri, warp_frac, dissolve_frac):\n",
    "    mean_pts = (1-warp_frac)*pts1 + warp_frac*pts2\n",
    "    mean_pts[:, 0] = np.clip(mean_pts[:, 0], 0, max(img1.shape[1], img2.shape[1]) - 1)\n",
    "    mean_pts[:, 1] = np.clip(mean_pts[:, 1], 0, max(img1.shape[0], img2.shape[0]) - 1) \n",
    "    \n",
    "    img1_warped = warp_image(img1, pts1, mean_pts, tri)\n",
    "    img2_warped = warp_image(img2, pts2, mean_pts, tri)\n",
    "    \n",
    "    result_float = (1 - dissolve_frac) * img1_warped + dissolve_frac * img2_warped\n",
    "    result_clipped = np.clip(result_float, 0, 255)\n",
    "    morphed_image = np.round(result_clipped).astype(np.uint8)\n",
    "    \n",
    "    return morphed_image"
   ]
  },
  {
   "cell_type": "code",
   "execution_count": null,
   "id": "bb387849",
   "metadata": {},
   "outputs": [],
   "source": [
    "morph = morph_images(my_face, pts1, other_face, pts2, triPoints, warp_frac=0.5, dissolve_frac=0.5)\n",
    "plt.figure(figsize=(15, 5))\n",
    "plt.subplot(1, 3, 1)\n",
    "plt.imshow(my_face)\n",
    "plt.subplot(1, 3, 2)\n",
    "plt.imshow(morph)\n",
    "plt.subplot(1, 3, 3)\n",
    "plt.imshow(other_face)\n",
    "skio.imsave(\"output/midway_face.jpg\", morph)"
   ]
  },
  {
   "cell_type": "markdown",
   "id": "801dd1a1",
   "metadata": {},
   "source": [
    "## Part 3: The Morph Sequence"
   ]
  },
  {
   "cell_type": "code",
   "execution_count": null,
   "id": "74f9c89c",
   "metadata": {},
   "outputs": [],
   "source": [
    "# Bulk of the code already implemented in Part 2\n",
    "fig = plt.figure(figsize=(8, 10))\n",
    "\n",
    "imgs = []\n",
    "total_frames = 45\n",
    "for frac in np.linspace(0, 1, total_frames):\n",
    "    morphed_im = morph_images(my_face, pts1, other_face, pts2, triPoints, frac, frac)\n",
    "    img = plt.imshow(morphed_im, animated=True)\n",
    "    imgs.append([img])\n",
    "    \n",
    "anim = animation.ArtistAnimation(fig, imgs, interval=100, blit=True,\n",
    "                                 repeat_delay=1000)\n",
    "anim.save('output/morph_slow.gif', writer='imagemagick', fps=10)\n",
    "anim.save('output/morph.gif', writer='imagemagick', fps=30)"
   ]
  },
  {
   "cell_type": "markdown",
   "id": "388e6ade",
   "metadata": {},
   "source": [
    "## Part 4: The \"Mean Face\" of a Population"
   ]
  },
  {
   "cell_type": "code",
   "execution_count": null,
   "id": "7476735b",
   "metadata": {},
   "outputs": [],
   "source": [
    "def bilinear_interpolate2(image, x, y):\n",
    "    \"\"\"Bilinear interpolation for arrays of coordinates.\"\"\"\n",
    "    x = np.asarray(x)\n",
    "    y = np.asarray(y)\n",
    "\n",
    "    # Floor values\n",
    "    x0 = np.floor(x).astype(int)\n",
    "    x1 = x0 + 1\n",
    "    y0 = np.floor(y).astype(int)\n",
    "    y1 = y0 + 1\n",
    "\n",
    "    # Ensure coordinates are within image boundary\n",
    "    x0 = np.clip(x0, 0, image.shape[1]-1)\n",
    "    x1 = np.clip(x1, 0, image.shape[1]-1)\n",
    "    y0 = np.clip(y0, 0, image.shape[0]-1)\n",
    "    y1 = np.clip(y1, 0, image.shape[0]-1)\n",
    "\n",
    "    Ia = image[y0, x0]\n",
    "    Ib = image[y1, x0]\n",
    "    Ic = image[y0, x1]\n",
    "    Id = image[y1, x1]\n",
    "\n",
    "    wa = ((x1-x) * (y1-y))[:, np.newaxis]\n",
    "    wb = ((x1-x) * (y-y0))[:, np.newaxis]\n",
    "    wc = ((x-x0) * (y1-y))[:, np.newaxis]\n",
    "    wd = ((x-x0) * (y-y0))[:, np.newaxis]\n",
    "\n",
    "    return wa*Ia + wb*Ib + wc*Ic + wd*Id\n",
    "\n",
    "def compute_mean_face(imgs, pts):\n",
    "    num_imgs = len(imgs)\n",
    "    mask = np.zeros((imgs[0].shape[0], imgs[0].shape[1], 3))\n",
    "    mean_pts = np.mean(pts, axis=0)\n",
    "    tri = Delaunay(mean_pts)\n",
    "    for tri_index in tri.simplices:\n",
    "        src_tris = [pts[i][tri_index] for i in range(num_imgs)]\n",
    "        mid_tri = mean_pts[tri_index]\n",
    "        mat_Ts = [computeAffine(src_tris[i], mid_tri) for i in range(num_imgs)]\n",
    "        \n",
    "        rr, cc = polygon(mid_tri[:, 1], mid_tri[:, 0])\n",
    "        M = np.array([cc, rr, np.ones(len(cc))]).astype(int)\n",
    "        \n",
    "        src_xys = [np.dot(mat_Ts[i], M) for i in range(num_imgs)]\n",
    "        \n",
    "        for i in range(num_imgs):\n",
    "            interpolated_values = bilinear_interpolate2(imgs[i], src_xys[i][0], src_xys[i][1]) / num_imgs\n",
    "            for r, c, value in zip(rr, cc, interpolated_values):\n",
    "                mask[int(r), int(c)] += value\n",
    "            \n",
    "    return mask, mean_pts, tri\n",
    "    \n",
    "# Getting points for each image in IMM dataset\n",
    "def get_pts_from_asf(path, add_corners=True):\n",
    "    with open(path, 'r') as f:\n",
    "        data = f.readlines()[16:74]\n",
    "    pts_rel = np.array([data[i].split('\\t')[2:4] for i in range(len(data))]).astype(float)\n",
    "    im = plt.imread('data/population/imm_face_db/01-1m.jpg')\n",
    "    pts_real = np.multiply(np.array([im.shape[1], im.shape[0]]), pts_rel)\n",
    "    if add_corners:\n",
    "        pts_real = np.vstack([pts_real, np.array([[0, 0], [im.shape[1]-1, 0], [0, im.shape[0]-1], [im.shape[1]-1, im.shape[0]-1]])])\n",
    "    return pts_real\n",
    "\n",
    "# Merging neutral faces of entire population\n",
    "def main(path):\n",
    "    imgs = []\n",
    "    pts = []\n",
    "    count = 0\n",
    "    for file in os.listdir(path):\n",
    "        # print(file)\n",
    "        if file.split('.')[1] == 'jpg' and '1' == file.split('.')[0][-2]:\n",
    "            count += 1\n",
    "            imgs.append(plt.imread(path+file)/255)\n",
    "            pts.append(get_pts_from_asf(path+file.split('.')[0]+'.asf'))\n",
    "    mean_face, mean_shape, tri = compute_mean_face(imgs, pts)\n",
    "    plt.imshow(mean_face)\n",
    "    skio.imsave(\"output/average_pop_face.jpg\", mean_face)\n",
    "    \n",
    "    return mean_face, mean_shape, tri, imgs, pts\n",
    "\n",
    "mean_face, mean_shape, tri, imgs, pts = main('data/population/imm_face_db/')"
   ]
  },
  {
   "cell_type": "code",
   "execution_count": null,
   "id": "37f5f499",
   "metadata": {},
   "outputs": [],
   "source": [
    "# Warping some faces into average shape\n",
    "fig, axes = plt.subplots(1, 4, figsize=(25,10))\n",
    "\n",
    "for i in range(4):\n",
    "    img = imgs[i]\n",
    "    pt = pts[i]\n",
    "    warped = warp_image(img, pt, mean_shape, tri.simplices)\n",
    "    skio.imsave(f\"output/face_warp_on_mean_shape_{i}.jpg\", warped)\n",
    "    axes[i].imshow(warped)\n",
    "    axes[i].axis('off')\n",
    "    \n",
    "plt.show()\n"
   ]
  },
  {
   "cell_type": "code",
   "execution_count": null,
   "id": "1592f772",
   "metadata": {},
   "outputs": [],
   "source": [
    "# Get annotation sequence for plotting correspondences in my own face\n",
    "plt.figure(figsize=(20, 16))\n",
    "plt.imshow(mean_face)\n",
    "plt.plot(mean_shape[:, 0], mean_shape[:, 1], 'o')\n",
    "for i in range(mean_shape.shape[0]):\n",
    "    plt.annotate(str(i),xy=(mean_shape[i, 0]+1, mean_shape[i, 1]))"
   ]
  },
  {
   "cell_type": "code",
   "execution_count": null,
   "id": "b8bd5477",
   "metadata": {},
   "outputs": [],
   "source": [
    "# Resizing new image to make correspondence easier\n",
    "\n",
    "my_face2 = skio.imread(\"data/Aryaman2.jpg\")\n",
    "my_face2 = (sktr.resize(my_face2, (mean_face.shape[0], mean_face.shape[1]))*255).astype(np.uint8)\n",
    "skio.imsave(\"data/Aryaman2.jpg\", my_face2)\n",
    "fig, ax = plt.subplots()\n",
    "ax.imshow(my_face2)\n",
    "\n",
    "plt.show()\n"
   ]
  },
  {
   "cell_type": "code",
   "execution_count": null,
   "id": "f919b7b9",
   "metadata": {},
   "outputs": [],
   "source": [
    "with open(\"Aryaman2_average_pop_face.json\", 'r') as file:\n",
    "    new_correspondences = json.load(file)\n",
    "    \n",
    "print(new_correspondences)\n",
    "print(len(new_correspondences['im1Points']))\n",
    "new_pts = np.array(new_correspondences['im1Points'])"
   ]
  },
  {
   "cell_type": "code",
   "execution_count": null,
   "id": "11b26596",
   "metadata": {},
   "outputs": [],
   "source": [
    "def warp_image(img, pts, dst_pts, tri):\n",
    "    warped_img = np.zeros_like(img)\n",
    "    \n",
    "    for triangle in tri:\n",
    "        src_triangle = pts[triangle]\n",
    "        dst_triangle = dst_pts[triangle]\n",
    "        \n",
    "        inv_transform = compute_affine_transform(src_triangle, dst_triangle)\n",
    "        \n",
    "        rr, cc = polygon(dst_triangle[:,1], dst_triangle[:,0])\n",
    "        \n",
    "        for r, c in zip(rr, cc):\n",
    "            src = np.dot(inv_transform, [c, r, 1])\n",
    "            color = bilinear_interpolate(img, src[0], src[1])\n",
    "            warped_img[int(r), int(c)] = color\n",
    "            \n",
    "    return warped_img\n",
    "\n",
    "fig, axes = plt.subplots(1, 2, figsize=(25,10))\n",
    "\n",
    "# Warping mean face -> my shape\n",
    "new_pts_corners = np.concatenate((new_pts, mean_shape[-4:]), axis=0)\n",
    "warped = warp_image((mean_face*255).astype(np.uint8), mean_shape, new_pts_corners, Delaunay(new_pts_corners).simplices.copy())\n",
    "skio.imsave(f\"output/avg_face_to_me.jpg\", warped)\n",
    "axes[0].imshow(warped)\n",
    "axes[0].axis('off')\n",
    "\n",
    "# Warping my face -> mean shape\n",
    "warped = warp_image(my_face2, new_pts_corners, mean_shape, Delaunay(mean_shape).simplices.copy())\n",
    "skio.imsave(f\"output/me_to_avg_face.jpg\", warped)\n",
    "plt.imshow(warped)\n",
    "axes[1].imshow(warped)\n",
    "axes[1].axis('off')\n",
    "\n",
    "plt.show()"
   ]
  },
  {
   "cell_type": "markdown",
   "id": "87477da9",
   "metadata": {},
   "source": [
    "## Part 5: Caricatures: Extrapolating From the Mean"
   ]
  },
  {
   "cell_type": "code",
   "execution_count": null,
   "id": "598909f8",
   "metadata": {},
   "outputs": [],
   "source": [
    "def caricature(img, pts, dst_pts, scale=1.3):\n",
    "    mean_pts = scale*pts + (1-scale)*dst_pts\n",
    "    mean_pts[:, 0] = np.clip(mean_pts[:, 0], 0, img.shape[1] - 1)\n",
    "    mean_pts[:, 1] = np.clip(mean_pts[:, 1], 0, img.shape[0] - 1) \n",
    "    \n",
    "    tri = Delaunay(mean_pts).simplices.copy()\n",
    "    img_warped = warp_image(img, pts, mean_pts, tri)\n",
    "    result_clipped = np.clip(img_warped, 0, 255)\n",
    "    result = np.round(result_clipped).astype(np.uint8)\n",
    "    return result\n",
    "\n",
    "car = caricature(my_face2, new_pts_corners, mean_shape)\n",
    "skio.imsave(f\"output/caricature_neutral_face.jpg\", car)\n",
    "plt.imshow(car)"
   ]
  },
  {
   "cell_type": "markdown",
   "id": "7a43553e",
   "metadata": {},
   "source": [
    "## Bells & Whistles"
   ]
  },
  {
   "cell_type": "markdown",
   "id": "28b30179",
   "metadata": {},
   "source": [
    "### Changing Ethnicity"
   ]
  },
  {
   "cell_type": "code",
   "execution_count": null,
   "id": "4be8188f",
   "metadata": {},
   "outputs": [],
   "source": [
    "avg_white_male = skio.imread(\"data/average_white_male.jpg\") / 255\n",
    "plt.imshow(avg_white_male)"
   ]
  },
  {
   "cell_type": "code",
   "execution_count": null,
   "id": "be7dc28a",
   "metadata": {},
   "outputs": [],
   "source": [
    "def crop_white_borders(image, threshold=0.8):\n",
    "    # Convert image to grayscale\n",
    "    if len(image.shape) == 3:\n",
    "        gray_image = np.mean(image, axis=-1)\n",
    "    else:\n",
    "        gray_image = image\n",
    "\n",
    "    # Find the threshold for \"white\" based on image data type (assumes uint8 or float in [0,1])\n",
    "    white_threshold = 255 * threshold if image.dtype == np.uint8 else threshold\n",
    "    \n",
    "    # Sum the grayscale image along rows and columns\n",
    "    row_sum = np.sum(gray_image, axis=1)\n",
    "    col_sum = np.sum(gray_image, axis=0)\n",
    "    \n",
    "    # Find where the white borders start and end\n",
    "    row_start = np.where(row_sum < white_threshold * image.shape[1])[0][0]\n",
    "    row_end = np.where(row_sum < white_threshold * image.shape[1])[0][-1]\n",
    "    col_start = np.where(col_sum < white_threshold * image.shape[0])[0][0]\n",
    "    col_end = np.where(col_sum < white_threshold * image.shape[0])[0][-1]\n",
    "    \n",
    "    return row_start, row_end, col_start, col_end\n",
    "\n",
    "row_start, row_end, col_start, col_end = crop_white_borders(color.rgb2gray(avg_white_male))\n",
    "avg_white_male = avg_white_male[row_start:row_end, col_start:col_end, :]\n",
    "plt.imshow(avg_white_male)"
   ]
  },
  {
   "cell_type": "code",
   "execution_count": null,
   "id": "b6d8cddc",
   "metadata": {},
   "outputs": [],
   "source": [
    "# Resizing my image to match image average white male size while maintaining aspect ratio\n",
    "from skimage.transform import resize\n",
    "\n",
    "def resize_image_maintain_aspect_ratio(image, target_height, target_width):\n",
    "    # Calculate the aspect ratio of the image\n",
    "    original_height, original_width = image.shape[:2]\n",
    "    aspect_ratio = original_width / original_height\n",
    "\n",
    "    # Determine the new dimensions\n",
    "    if original_width/original_height > target_width/target_height:\n",
    "        # Width is the constraining dimension\n",
    "        new_width = target_width\n",
    "        new_height = int(target_width / aspect_ratio)\n",
    "    else:\n",
    "        # Height is the constraining dimension\n",
    "        new_height = target_height\n",
    "        new_width = int(target_height * aspect_ratio)\n",
    "    \n",
    "    # Resize the image maintaining the aspect ratio\n",
    "    resized_img = resize(image, (new_height, new_width))\n",
    "    \n",
    "    # Pad the image to match target dimensions if needed\n",
    "    pad_height = target_height - new_height\n",
    "    pad_width = target_width - new_width\n",
    "    padded_img = np.pad(resized_img, ((pad_height//2, pad_height - pad_height//2), \n",
    "                                      (pad_width//2, pad_width - pad_width//2), \n",
    "                                      (0, 0)), mode='constant')\n",
    "    \n",
    "    return padded_img\n",
    "\n",
    "my_face = skio.imread(\"data/Aryaman.jpg\") / 255\n",
    "\n",
    "print(\"Average male image shape: \", avg_white_male.shape)\n",
    "print(\"My face image shape: \", my_face.shape)\n",
    "\n",
    "resized_avg_white_male = resize_image_maintain_aspect_ratio(avg_white_male, 1187, 961)\n",
    "skio.imsave(\"data/resized_average_white_male.jpg\", resized_avg_white_male)\n",
    "\n",
    "plt.imshow(resized_avg_white_male)\n",
    "plt.show()\n"
   ]
  },
  {
   "cell_type": "code",
   "execution_count": null,
   "id": "b698ee9d",
   "metadata": {},
   "outputs": [],
   "source": [
    "# Getting correspondence points\n",
    "with open(\"Aryaman_resized_average_white_male.json\", 'r') as file:\n",
    "    new_correspondences = json.load(file)\n",
    "    \n",
    "ary_pts = np.array(new_correspondences['im1Points'])\n",
    "avg_male_pts = np.array(new_correspondences['im2Points'])"
   ]
  },
  {
   "cell_type": "code",
   "execution_count": null,
   "id": "bfe92b61",
   "metadata": {},
   "outputs": [],
   "source": [
    "resized_avg_white_male = skio.imread(\"data/resized_average_white_male.jpg\")\n",
    "print(resized_avg_white_male)\n",
    "plt.imshow(resized_avg_white_male)"
   ]
  },
  {
   "cell_type": "code",
   "execution_count": null,
   "id": "2653812b",
   "metadata": {},
   "outputs": [],
   "source": [
    "# Morphing Appearence\n",
    "mean_pts = ary_pts + 0.5 * (avg_male_pts - ary_pts)\n",
    "tri = Delaunay(mean_pts).simplices.copy()\n",
    "morphed_appearence = morph_images((my_face*255).astype(np.uint8), \n",
    "                                  ary_pts, resized_avg_white_male, avg_male_pts, tri, 0.0, 0.5)\n",
    "\n",
    "skio.imsave(\"output/bells_whistles_1.jpg\", morphed_appearence)\n",
    "plt.imshow(morphed_appearence)"
   ]
  },
  {
   "cell_type": "code",
   "execution_count": null,
   "id": "190fe26d",
   "metadata": {},
   "outputs": [],
   "source": [
    "# Morphing Shape\n",
    "morphed_shape = morph_images((my_face*255).astype(np.uint8), \n",
    "                                  ary_pts, resized_avg_white_male, avg_male_pts, tri, 0.5, 0.0)\n",
    "\n",
    "skio.imsave(\"output/bells_whistles_2.jpg\", morphed_shape)\n",
    "plt.imshow(morphed_shape)"
   ]
  },
  {
   "cell_type": "code",
   "execution_count": null,
   "id": "38960dfa",
   "metadata": {},
   "outputs": [],
   "source": [
    "# Full Morph\n",
    "morph = morph_images((my_face*255).astype(np.uint8), \n",
    "                                  ary_pts, resized_avg_white_male, avg_male_pts, tri, 0.5, 0.5)\n",
    "\n",
    "skio.imsave(\"output/bells_whistles_3.jpg\", morph)\n",
    "plt.imshow(morph)"
   ]
  },
  {
   "cell_type": "code",
   "execution_count": null,
   "id": "e035b8ac",
   "metadata": {},
   "outputs": [],
   "source": []
  }
 ],
 "metadata": {
  "kernelspec": {
   "display_name": "Python 3",
   "language": "python",
   "name": "python3"
  },
  "language_info": {
   "codemirror_mode": {
    "name": "ipython",
    "version": 3
   },
   "file_extension": ".py",
   "mimetype": "text/x-python",
   "name": "python",
   "nbconvert_exporter": "python",
   "pygments_lexer": "ipython3",
   "version": "3.8.8"
  }
 },
 "nbformat": 4,
 "nbformat_minor": 5
}
