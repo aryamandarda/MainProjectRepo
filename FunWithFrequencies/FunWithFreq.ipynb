{
 "cells": [
  {
   "cell_type": "code",
   "execution_count": null,
   "id": "088ce78c",
   "metadata": {
    "scrolled": true
   },
   "outputs": [],
   "source": [
    "!pip install opencv-python"
   ]
  },
  {
   "cell_type": "code",
   "execution_count": null,
   "id": "6db47ce7",
   "metadata": {
    "scrolled": true
   },
   "outputs": [],
   "source": [
    "import math\n",
    "import numpy as np\n",
    "import matplotlib.pyplot as plt\n",
    "import skimage as sk\n",
    "import skimage.io as skio\n",
    "from scipy.signal import convolve2d\n",
    "from skimage import io, color\n",
    "import skimage.transform as sktr\n",
    "import cv2\n",
    "\n",
    "plt.rcParams['figure.figsize'] = [8, 8]"
   ]
  },
  {
   "cell_type": "code",
   "execution_count": null,
   "id": "d843d279",
   "metadata": {},
   "outputs": [],
   "source": [
    "def saveImage(img, name):\n",
    "    skio.imsave(\"output/\" + name + \".jpg\", img)"
   ]
  },
  {
   "cell_type": "markdown",
   "id": "c7a00e67",
   "metadata": {},
   "source": [
    "## Part 1: Fun with Filters"
   ]
  },
  {
   "cell_type": "markdown",
   "id": "56dbf5ce",
   "metadata": {},
   "source": [
    "### Part 1.1: Finite Difference Operator"
   ]
  },
  {
   "cell_type": "code",
   "execution_count": null,
   "id": "d256621b",
   "metadata": {
    "scrolled": true
   },
   "outputs": [],
   "source": [
    "name = \"data/cameraman.png\"\n",
    "cameraman_img = skio.imread(name, as_gray=True)\n",
    "cameraman_img = cv2.normalize(cameraman_img.astype('float'), None, 0.0, 1.0, cv2.NORM_MINMAX)\n",
    "skio.imshow(cameraman_img)\n",
    "skio.show()"
   ]
  },
  {
   "cell_type": "code",
   "execution_count": null,
   "id": "1ef6393f",
   "metadata": {
    "scrolled": true
   },
   "outputs": [],
   "source": [
    "# Difference Operators Convolution\n",
    "D_x = np.tile(np.array([-1, 0, 1])[None,:], [3, 1]) / 2\n",
    "D_y = np.tile(np.array([-1, 0, 1])[:, None], [1, 3]) / 2\n",
    "\n",
    "partial_x = convolve2d(cameraman_img, D_x, mode='same')\n",
    "partial_y = convolve2d(cameraman_img, D_y, mode='same')\n",
    "\n",
    "# Computing Gradiant Magnitude\n",
    "grad_mag = np.sqrt(partial_x**2 + partial_y**2)\n",
    "\n",
    "# Binarizing Gradient Magnitude\n",
    "threshold = 0.1 * np.max(grad_mag)\n",
    "grad_mag_bin = np.where(grad_mag > threshold, 1, 0)\n",
    "\n",
    "plt.figure(figsize=(10, 30))\n",
    "plt.subplot(4, 1, 1)\n",
    "plt.imshow(partial_x, cmap='gray')\n",
    "plt.title('Partial Derivative in X')\n",
    "plt.colorbar()\n",
    "saveImage(partial_x, \"cameraman_1_partialX\")\n",
    "\n",
    "plt.subplot(4, 1, 2)\n",
    "plt.imshow(partial_y, cmap='gray')\n",
    "plt.title('Partial Derivative in Y')\n",
    "plt.colorbar()\n",
    "saveImage(partial_y, \"cameraman_1_partialY\")\n",
    "\n",
    "plt.subplot(4, 1, 3)\n",
    "plt.imshow(grad_mag, cmap='gray')\n",
    "plt.title('Gradient Magnitude')\n",
    "plt.colorbar()\n",
    "saveImage(grad_mag, \"cameraman_1_gradMag\")\n",
    "\n",
    "plt.subplot(4, 1, 4)\n",
    "plt.imshow(grad_mag_bin, cmap='gray')\n",
    "plt.title('Gradient Magnitude Binarized')\n",
    "plt.colorbar()\n",
    "saveImage(grad_mag_bin, \"cameraman_1_gradMagBin\")\n"
   ]
  },
  {
   "cell_type": "markdown",
   "id": "046144c4",
   "metadata": {},
   "source": [
    "### Part 1.2: Derivative of Gaussian Filter"
   ]
  },
  {
   "cell_type": "code",
   "execution_count": null,
   "id": "1647a3df",
   "metadata": {
    "scrolled": true
   },
   "outputs": [],
   "source": [
    "# Generating Gaussian Filter\n",
    "k_size = 9\n",
    "sigma = 0\n",
    "gauss = cv2.getGaussianKernel(k_size, sigma)\n",
    "G = gauss * gauss.T\n",
    "\n",
    "# Convolving Image with Gaussian\n",
    "blurred_img = convolve2d(cameraman_img, G, mode='same')\n",
    "saveImage(blurred_img, \"cameraman_2_blurred\")\n",
    "\n",
    "# Repeating 1.1 Process\n",
    "\n",
    "# Difference Operators Convolution\n",
    "D_x = np.tile(np.array([-1, 0, 1])[None,:], [3, 1]) / 2\n",
    "D_y = np.tile(np.array([-1, 0, 1])[:, None], [1, 3]) / 2\n",
    "\n",
    "partial_x = convolve2d(blurred_img, D_x, mode='same')\n",
    "partial_y = convolve2d(blurred_img, D_y, mode='same')\n",
    "\n",
    "# Computing Gradiant Magnitude\n",
    "grad_mag = np.sqrt(partial_x**2 + partial_y**2)\n",
    "\n",
    "# Binarizing Gradient Magnitude\n",
    "threshold = 0.12\n",
    "grad_mag_bin = np.where(grad_mag > threshold, 1, 0)\n",
    "\n",
    "plt.figure(figsize=(10, 30))\n",
    "plt.subplot(4, 1, 1)\n",
    "plt.imshow(partial_x, cmap='gray')\n",
    "plt.title('Partial Derivative in X')\n",
    "plt.colorbar() \n",
    "saveImage(partial_x, \"cameraman_2_partialX\")\n",
    "\n",
    "plt.subplot(4, 1, 2)\n",
    "plt.imshow(partial_y, cmap='gray')\n",
    "plt.title('Partial Derivative in Y')\n",
    "plt.colorbar()\n",
    "saveImage(partial_y, \"cameraman_2_partialY\")\n",
    "\n",
    "plt.subplot(4, 1, 3)\n",
    "plt.imshow(grad_mag, cmap='gray')\n",
    "plt.title('Gradient Magnitude')\n",
    "plt.colorbar()\n",
    "saveImage(grad_mag, \"cameraman_2_gradMag\")\n",
    "\n",
    "plt.subplot(4, 1, 4)\n",
    "plt.imshow(grad_mag_bin, cmap='gray')\n",
    "plt.title('Gradient Magnitude Binarized')\n",
    "plt.colorbar()\n",
    "saveImage(grad_mag_bin, \"cameraman_2_gradMagBin\")\n"
   ]
  },
  {
   "cell_type": "code",
   "execution_count": null,
   "id": "36e415e2",
   "metadata": {
    "scrolled": true
   },
   "outputs": [],
   "source": [
    "# Convolving Gaussian with D_x and D_y\n",
    "DoG_x = convolve2d(G, D_x, mode='same')\n",
    "DoG_y = convolve2d(G, D_y, mode='same')\n",
    "\n",
    "saveImage(DoG_x, \"cameraman_3_DOGX\")\n",
    "saveImage(DoG_y, \"cameraman_3_DOGY\")\n",
    "\n",
    "partial_DoG_x = convolve2d(cameraman_img, DoG_x, mode='same')\n",
    "partial_DoG_y = convolve2d(cameraman_img, DoG_y, mode='same')\n",
    "\n",
    "# Computing Gradiant Magnitude\n",
    "grad_mag = np.sqrt(partial_DoG_x**2 + partial_DoG_y**2)\n",
    "\n",
    "# Binarizing Gradient Magnitude\n",
    "threshold = 0.12\n",
    "grad_mag_bin = np.where(grad_mag > threshold, 1, 0)\n",
    "\n",
    "plt.figure(figsize=(10, 30))\n",
    "plt.subplot(4, 1, 1)\n",
    "plt.imshow(partial_DoG_x, cmap='gray')\n",
    "plt.title('Partial Derivative in X DoG Filter')\n",
    "plt.colorbar()\n",
    "saveImage(partial_DoG_x, \"cameraman_3_partialDOGX\")\n",
    "\n",
    "plt.subplot(4, 1, 2)\n",
    "plt.imshow(partial_DoG_y, cmap='gray')\n",
    "plt.title('Partial Derivative in Y DoG Filter')\n",
    "plt.colorbar()\n",
    "saveImage(partial_DoG_y, \"cameraman_3_partialDOGY\")\n",
    "\n",
    "plt.subplot(4, 1, 3)\n",
    "plt.imshow(grad_mag, cmap='gray')\n",
    "plt.title('Gradient Magnitude')\n",
    "plt.colorbar()\n",
    "saveImage(grad_mag, \"cameraman_3_gradMag\")\n",
    "\n",
    "plt.subplot(4, 1, 4)\n",
    "plt.imshow(grad_mag_bin, cmap='gray')\n",
    "plt.title('Gradient Magnitude Binarized')\n",
    "plt.colorbar()\n",
    "saveImage(grad_mag_bin, \"cameraman_3_gradMagBin\")"
   ]
  },
  {
   "cell_type": "markdown",
   "id": "6082c0fd",
   "metadata": {},
   "source": [
    "## Part 2: Fun with Frequencies"
   ]
  },
  {
   "cell_type": "markdown",
   "id": "fb4abe65",
   "metadata": {},
   "source": [
    "### Part 2.1: Image \"Sharpening\""
   ]
  },
  {
   "cell_type": "code",
   "execution_count": null,
   "id": "ae245026",
   "metadata": {
    "scrolled": false
   },
   "outputs": [],
   "source": [
    "def unsharp_mask_filter(image, name, k_size, sigma, alpha):\n",
    "    image = cv2.normalize(image.astype('float'), None, 0.0, 1.0, cv2.NORM_MINMAX)\n",
    "    \n",
    "    plt.imshow(image)\n",
    "    plt.show()\n",
    "    \n",
    "    # creating Guassian filter\n",
    "    gauss = cv2.getGaussianKernel(k_size, sigma)\n",
    "    G = np.outer(gauss, gauss.T)\n",
    "    \n",
    "    # blurring image\n",
    "    r, g, b = image[:, :, 0], image[:, :, 1], image[:, :, 2]\n",
    "    blur_r = convolve2d(r, G, mode='same')\n",
    "    blur_g = convolve2d(g, G, mode='same')\n",
    "    blur_b = convolve2d(b, G, mode='same')\n",
    "    blur = np.stack([blur_r, blur_g, blur_b], axis=-1)\n",
    "    \n",
    "    plt.imshow(blur)\n",
    "    plt.show()\n",
    "    saveImage(blur, name + \"_blur\")\n",
    "    \n",
    "    gray_image = color.rgb2gray(image)\n",
    "    gray_blur = color.rgb2gray(blur)\n",
    "    high_freq = gray_image - gray_blur\n",
    "    \n",
    "    plt.imshow(high_freq, cmap=\"gray\")\n",
    "    plt.show()\n",
    "    saveImage(high_freq, name + \"_high_freq\")\n",
    "    \n",
    "    sharp_r = np.clip(image[:, :, 0] + (alpha * high_freq), 0, 1)\n",
    "    sharp_g = np.clip(image[:, :, 1] + (alpha * high_freq), 0, 1)\n",
    "    sharp_b = np.clip(image[:, :, 2] + (alpha * high_freq), 0, 1)\n",
    "    sharp = np.stack([sharp_r, sharp_g, sharp_b], axis=-1)\n",
    "    \n",
    "    plt.imshow(sharp)\n",
    "    plt.show()\n",
    "    saveImage(sharp, name + \"_sharp\")\n",
    "    \n",
    "    return sharp\n",
    "\n",
    "name = \"data/taj.jpg\"\n",
    "taj_img = skio.imread(name)\n",
    "sharp_taj = unsharp_mask_filter(taj_img, \"taj\", 9, 2, 2)"
   ]
  },
  {
   "cell_type": "code",
   "execution_count": null,
   "id": "e47a74b3",
   "metadata": {
    "scrolled": false
   },
   "outputs": [],
   "source": [
    "sharp_taj2 = unsharp_mask_filter(sharp_taj, \"sharp_taj\", 9, 2, 2)"
   ]
  },
  {
   "cell_type": "code",
   "execution_count": null,
   "id": "a3b05d54",
   "metadata": {
    "scrolled": true
   },
   "outputs": [],
   "source": [
    "circuit_img = skio.imread(\"data/circuit.jpg\")\n",
    "sharp_circuit = unsharp_mask_filter(circuit_img, \"circuit\", 9, 2, 2)"
   ]
  },
  {
   "cell_type": "code",
   "execution_count": null,
   "id": "acbace8a",
   "metadata": {
    "scrolled": true
   },
   "outputs": [],
   "source": [
    "gateway_img = skio.imread(\"data/gateway.jpg\")\n",
    "sharp_gateway = unsharp_mask_filter(gateway_img, \"gateway\", 9, 2, 2)"
   ]
  },
  {
   "cell_type": "code",
   "execution_count": null,
   "id": "cb769f44",
   "metadata": {
    "scrolled": true
   },
   "outputs": [],
   "source": [
    "#vt_img = skio.imread(\"data/victoria_station.jpg\")\n",
    "#sharp_vt = unsharp_mask_filter(vt_img, 55, 0, 2)"
   ]
  },
  {
   "cell_type": "code",
   "execution_count": null,
   "id": "38033478",
   "metadata": {
    "scrolled": true
   },
   "outputs": [],
   "source": [
    "temple_img = skio.imread(\"data/temple.jpg\")\n",
    "sharp_temple = unsharp_mask_filter(temple_img, \"temple\", 9, 2, 2)"
   ]
  },
  {
   "cell_type": "markdown",
   "id": "ea60ddea",
   "metadata": {},
   "source": [
    "### Part 2.2: Hybrid Images"
   ]
  },
  {
   "cell_type": "code",
   "execution_count": null,
   "id": "0e07c70a",
   "metadata": {
    "scrolled": true
   },
   "outputs": [],
   "source": [
    "def get_points(im1, im2):\n",
    "    print('Please select 2 points in each image for alignment.')\n",
    "    fig, ax = plt.subplots()\n",
    "    plt.imshow(im1)\n",
    "    p1, p2 = plt.ginput(2)\n",
    "    plt.close()\n",
    "    plt.imshow(im2)\n",
    "    p3, p4 = plt.ginput(2)\n",
    "    plt.pause(1)\n",
    "    plt.close(fig)\n",
    "    return (p1, p2, p3, p4)\n",
    "\n",
    "def recenter(im, r, c):\n",
    "    R, C, _ = im.shape\n",
    "    rpad = (int) (np.abs(2*r+1 - R))\n",
    "    cpad = (int) (np.abs(2*c+1 - C))\n",
    "    return np.pad(\n",
    "        im, [(0 if r > (R-1)/2 else rpad, 0 if r < (R-1)/2 else rpad),\n",
    "             (0 if c > (C-1)/2 else cpad, 0 if c < (C-1)/2 else cpad),\n",
    "             (0, 0)], 'constant')\n",
    "\n",
    "def find_centers(p1, p2):\n",
    "    cx = np.round(np.mean([p1[0], p2[0]]))\n",
    "    cy = np.round(np.mean([p1[1], p2[1]]))\n",
    "    return cx, cy\n",
    "\n",
    "def align_image_centers(im1, im2, pts):\n",
    "    p1, p2, p3, p4 = pts\n",
    "    h1, w1, b1 = im1.shape\n",
    "    h2, w2, b2 = im2.shape\n",
    "    \n",
    "    cx1, cy1 = find_centers(p1, p2)\n",
    "    cx2, cy2 = find_centers(p3, p4)\n",
    "\n",
    "    im1 = recenter(im1, cy1, cx1)\n",
    "    im2 = recenter(im2, cy2, cx2)\n",
    "    return im1, im2\n",
    "\n",
    "def rescale_images(im1, im2, pts):\n",
    "    p1, p2, p3, p4 = pts\n",
    "    len1 = np.sqrt((p2[1] - p1[1])**2 + (p2[0] - p1[0])**2)\n",
    "    len2 = np.sqrt((p4[1] - p3[1])**2 + (p4[0] - p3[0])**2)\n",
    "    dscale = len2/len1\n",
    "    if dscale < 1:\n",
    "        im1 = sktr.rescale(im1, (dscale, dscale, 1))\n",
    "    else:\n",
    "        im2 = sktr.rescale(im2, (1./dscale, 1./dscale, 1))\n",
    "    return im1, im2\n",
    "\n",
    "def rotate_im1(im1, im2, pts):\n",
    "    p1, p2, p3, p4 = pts\n",
    "    theta1 = math.atan2(-(p2[1] - p1[1]), (p2[0] - p1[0]))\n",
    "    theta2 = math.atan2(-(p4[1] - p3[1]), (p4[0] - p3[0]))\n",
    "    dtheta = theta2 - theta1\n",
    "    im1 = sktr.rotate(im1, dtheta*180/np.pi)\n",
    "    return im1, dtheta\n",
    "\n",
    "def match_img_size(im1, im2):\n",
    "    # Make images the same size\n",
    "    h1, w1, c1 = im1.shape\n",
    "    h2, w2, c2 = im2.shape\n",
    "    if h1 < h2:\n",
    "        im2 = im2[int(np.floor((h2-h1)/2.)) : -int(np.ceil((h2-h1)/2.)), :, :]\n",
    "    elif h1 > h2:\n",
    "        im1 = im1[int(np.floor((h1-h2)/2.)) : -int(np.ceil((h1-h2)/2.)), :, :]\n",
    "    if w1 < w2:\n",
    "        im2 = im2[:, int(np.floor((w2-w1)/2.)) : -int(np.ceil((w2-w1)/2.)), :]\n",
    "    elif w1 > w2:\n",
    "        im1 = im1[:, int(np.floor((w1-w2)/2.)) : -int(np.ceil((w1-w2)/2.)), :]\n",
    "    assert im1.shape[0] == im2.shape[0] and im1.shape[1] == im2.shape[1]\n",
    "    return im1, im2\n",
    "\n",
    "def align_images(im1, im2):\n",
    "    %matplotlib tk\n",
    "    pts = get_points(im1, im2)\n",
    "    %matplotlib inline\n",
    "    im1, im2 = align_image_centers(im1, im2, pts)\n",
    "    im1, im2 = rescale_images(im1, im2, pts)\n",
    "    im1, angle = rotate_im1(im1, im2, pts)\n",
    "    im1, im2 = match_img_size(im1, im2)\n",
    "    return im1, im2\n",
    "\n",
    "def hybrid_image(im1, im2, sigma1, sigma2):\n",
    "    im1_gray, im2_gray = color.rgb2gray(im1), color.rgb2gray(im2)\n",
    "    k_size1 = int(6 * sigma1 + 1)\n",
    "    k_size1 += 1 - k_size1 % 2  \n",
    "    k_size2 = int(6 * sigma2 + 1)\n",
    "    k_size2 += 1 - k_size2 % 2  \n",
    "    \n",
    "    gauss1 = cv2.getGaussianKernel(k_size1, sigma1)\n",
    "    G1 = np.outer(gauss1, gauss1.T)\n",
    "    im1_low = convolve2d(im1_gray, G1, mode='same')\n",
    "    high = im1_gray - im1_low\n",
    "    \n",
    "    gauss2 = cv2.getGaussianKernel(k_size2, sigma2)\n",
    "    G2 = np.outer(gauss2, gauss2.T)\n",
    "    low = convolve2d(im2_gray, G2, mode='same')\n",
    "    \n",
    "    return (low + high), low, high"
   ]
  },
  {
   "cell_type": "code",
   "execution_count": null,
   "id": "5b0d0ca5",
   "metadata": {
    "scrolled": true
   },
   "outputs": [],
   "source": [
    "def hybrid_images_main(im1, im2, sigma1, sigma2):\n",
    "    # Next align images (this code is provided, but may be improved)\n",
    "    im1_aligned, im2_aligned = align_images(im1, im2)\n",
    "\n",
    "    ## You will provide the code below. Sigma1 and sigma2 are arbitrary \n",
    "    ## cutoff values for the high and low frequencies\n",
    "\n",
    "    hybrid, low, high = hybrid_image(im1_aligned, im2_aligned, sigma1, sigma2)\n",
    "\n",
    "    plt.imshow(hybrid, cmap=\"gray\")\n",
    "    plt.show\n",
    "    return hybrid, low, high\n"
   ]
  },
  {
   "cell_type": "code",
   "execution_count": null,
   "id": "6cdae479",
   "metadata": {
    "scrolled": true
   },
   "outputs": [],
   "source": [
    "im1 = plt.imread('hybrid_python/nutmeg.jpg')/255\n",
    "im2 = plt.imread('hybrid_python/DerekPicture.jpg')/255.\n",
    "hybrid, low, high = hybrid_images_main(im1, im2, 20, 10)\n",
    "saveImage(hybrid, \"nutmegXderek\")\n",
    "saveImage(low, \"derekLow\")\n",
    "saveImage(high, \"nutmegHi\")"
   ]
  },
  {
   "cell_type": "code",
   "execution_count": null,
   "id": "00217854",
   "metadata": {
    "scrolled": true
   },
   "outputs": [],
   "source": [
    "im2 = plt.imread('hybrid_python/mop_dog.jpg')/255\n",
    "im1 = plt.imread('hybrid_python/kanye.jpg')/255\n",
    "hybrid, low, high = hybrid_images_main(im1, im2, 10, 5)\n",
    "saveImage(hybrid, \"dogXkanye\")\n",
    "saveImage(low, \"dogLow\")\n",
    "saveImage(high, \"kanyeHi\")"
   ]
  },
  {
   "cell_type": "code",
   "execution_count": null,
   "id": "dd1914d1",
   "metadata": {
    "scrolled": false
   },
   "outputs": [],
   "source": [
    "im2 = plt.imread('hybrid_python/tiger.jpg')/255\n",
    "im1 = plt.imread('hybrid_python/wolf.jpg')/255.\n",
    "hybrid, low, high = hybrid_images_main(im1, im2, 3, 3)\n",
    "saveImage(hybrid, \"wolfXtiger\")\n",
    "saveImage(low, \"tigerLow\")\n",
    "saveImage(high, \"wolfHi\")"
   ]
  },
  {
   "cell_type": "code",
   "execution_count": null,
   "id": "6c4adb25",
   "metadata": {
    "scrolled": true
   },
   "outputs": [],
   "source": [
    "# FFT\n",
    "## FFT images\n",
    "ffim1g = np.log(np.abs(np.fft.fftshift(np.fft.fft2(color.rgb2gray(im1)))))\n",
    "ffim2g = np.log(np.abs(np.fft.fftshift(np.fft.fft2(color.rgb2gray(im2)))))\n",
    "fflow = np.log(np.abs(np.fft.fftshift(np.fft.fft2(low))))\n",
    "ffhigh = np.log(np.abs(np.fft.fftshift(np.fft.fft2(high))))\n",
    "ffhybrid = np.log(np.abs(np.fft.fftshift(np.fft.fft2(hybrid))))\n",
    "plt.figure()\n",
    "plt.imshow(ffim1g)\n",
    "saveImage(ffim1g, \"wolf_ff\")\n",
    "\n",
    "plt.figure()\n",
    "plt.imshow(ffim2g)\n",
    "saveImage(ffim2g, \"tiger_ff\")\n",
    "\n",
    "plt.figure()\n",
    "plt.imshow(fflow)\n",
    "saveImage(fflow, \"tiger_low_ff\")\n",
    "\n",
    "plt.figure()\n",
    "plt.imshow(ffhigh)\n",
    "saveImage(ffhigh, \"wolf_high_ff\")\n",
    "\n",
    "plt.figure()\n",
    "plt.imshow(ffhybrid)\n",
    "plt.show()\n",
    "saveImage(ffhybrid, \"tigerXwolf_ff\")"
   ]
  },
  {
   "cell_type": "code",
   "execution_count": null,
   "id": "811c527b",
   "metadata": {
    "scrolled": true
   },
   "outputs": [],
   "source": [
    "#TODO: Find Better Images\n",
    "im1 = plt.imread('hybrid_python/running.jpg')/255\n",
    "im2 = plt.imread('hybrid_python/walking.jpg')/255.\n",
    "hybrid, low, high = hybrid_images_main(im1, im2, 10, 1)\n",
    "saveImage(hybrid, \"runningXwalking\")\n",
    "saveImage(low, \"walkingLow\")\n",
    "saveImage(high, \"runningHi\")"
   ]
  },
  {
   "cell_type": "markdown",
   "id": "5c33d93f",
   "metadata": {},
   "source": [
    "### Part 2.3: Gaussian and Laplacian Stacks"
   ]
  },
  {
   "cell_type": "code",
   "execution_count": null,
   "id": "284c2fee",
   "metadata": {
    "scrolled": true
   },
   "outputs": [],
   "source": [
    "def gaussianStack(im, k_size, sigma, N):\n",
    "    im = color.rgb2gray(im)\n",
    "    im = cv2.normalize(im.astype('float'), None, 0.0, 1.0, cv2.NORM_MINMAX)\n",
    "    gauss = cv2.getGaussianKernel(k_size, sigma)\n",
    "    G = np.outer(gauss, gauss.T)\n",
    "    # x, y, _ = im.shape\n",
    "    # stack = np.zeros((x, y, N))\n",
    "    stack = [im]\n",
    "    for i in range(1, N):\n",
    "        curr_im = stack[-1]\n",
    "        image = convolve2d(curr_im, G, mode='same')\n",
    "        image = cv2.normalize(image.astype('float'), None, 0.0, 1.0, cv2.NORM_MINMAX)\n",
    "        image = color.rgb2gray(image)\n",
    "        stack.append(image)\n",
    "        \n",
    "    return stack\n",
    "\n",
    "def laplacianStack(gstack):\n",
    "    lstack = []\n",
    "    for i in range(0, len(gstack) - 1):\n",
    "        image = gstack[i] - gstack[i + 1]\n",
    "        lstack.append(image)\n",
    "        if i == (len(gstack) - 2):\n",
    "            lstack.append(gstack[i + 1])\n",
    "    \n",
    "    return lstack\n",
    "\n",
    "def showStack(stack, name, save=True):\n",
    "    for idx, image in enumerate(stack):\n",
    "        plt.imshow(image, cmap=\"gray\")\n",
    "        plt.show()\n",
    "        if save:\n",
    "            saveImage(image, name+str(idx))"
   ]
  },
  {
   "cell_type": "code",
   "execution_count": null,
   "id": "4ce5a631",
   "metadata": {
    "scrolled": true
   },
   "outputs": [],
   "source": [
    "im = plt.imread('data/oraple.jpg')/255\n",
    "gstack = gaussianStack(im, 15, 5, 10)\n",
    "showStack(gstack, \"oraple_gs\")"
   ]
  },
  {
   "cell_type": "code",
   "execution_count": null,
   "id": "b5913bee",
   "metadata": {
    "scrolled": true
   },
   "outputs": [],
   "source": [
    "lstack = laplacianStack(gstack)\n",
    "showStack(lstack, \"oraple_ls\")"
   ]
  },
  {
   "cell_type": "markdown",
   "id": "53013624",
   "metadata": {},
   "source": [
    "### Part 2.4: Multiresolution Blending"
   ]
  },
  {
   "cell_type": "code",
   "execution_count": null,
   "id": "c325d84e",
   "metadata": {},
   "outputs": [],
   "source": [
    "def create_mask(h, w, split, im, blend_type=\"vertical\"):\n",
    "    mask = np.zeros((h, w))\n",
    "    if blend_type == \"vertical\":\n",
    "        mask[:, :split] = 1\n",
    "    elif blend_type == \"horizontal\":\n",
    "        mask[:split, :] = 1\n",
    "    # elif blend_type == \"irregular\":\n",
    "      #   threshold = 0.7\n",
    "      #   mask = np.where(im > threshold, 0, 1).astype(np.uint8)\n",
    "    \n",
    "    return mask\n",
    "\n",
    "def blend(im1, im2, blend_type, N, irreg_mask, name):\n",
    "    if not im1.shape == im2.shape:\n",
    "        im1, im2 = match_img_size(im1, im2)\n",
    "        \n",
    "    # Creating Laplacian stacks\n",
    "    im1, im2 = color.rgb2gray(im1), color.rgb2gray(im2)\n",
    "    im1gStack = gaussianStack(im1, 10, 5, N)\n",
    "    im1lStack = laplacianStack(im1gStack)\n",
    "    im2gStack = gaussianStack(im2, 10, 5, N)\n",
    "    im2lStack = laplacianStack(im2gStack)\n",
    "    \n",
    "    # Creating mask\n",
    "    h, w = im1.shape\n",
    "    if blend_type == \"vertical\":\n",
    "        mask = create_mask(h, w, w // 2, None, blend_type)\n",
    "    elif blend_type == \"horizontal\":\n",
    "        mask = create_mask(h, w, h // 2, None, blend_type)\n",
    "    else:\n",
    "        threshold = 0.5\n",
    "        mask = np.where(color.rgb2gray(irreg_mask) > threshold, 1, 0).astype(np.uint8)\n",
    "        mask = mask[:h, :w]\n",
    "    \n",
    "    saveImage(mask, \"mask_\" + blend_type)\n",
    "    \n",
    "    # Extra Gaussian Blurring for 1st layer\n",
    "    gauss = cv2.getGaussianKernel(30, 10)\n",
    "    G = np.outer(gauss, gauss.T)\n",
    "    mask = convolve2d(mask, G, mode='same')\n",
    "    mask = cv2.normalize(mask.astype('float'), None, 0.0, 1.0, cv2.NORM_MINMAX)\n",
    "    \n",
    "    gmask = gaussianStack(mask, 30, 10, N)\n",
    "    \n",
    "    showStack(gmask, name, False)\n",
    "    \n",
    "    # Blending\n",
    "    blend = np.zeros((h, w))\n",
    "    for i in range(0, N):\n",
    "        left = gmask[i] * im1lStack[i]\n",
    "        saveImage(left, name + \"_left_\" + str(i))\n",
    "        showImage(left)\n",
    "        right = (1 - gmask[i]) * im2lStack[i]\n",
    "        saveImage(right, name + \"_right_\" + str(i))\n",
    "        showImage(right)\n",
    "        blend += left + right\n",
    "        saveImage(blend, name + \"_blend_\" + str(i))\n",
    "        \n",
    "    showImage(blend)\n",
    "    saveImage(blend, name + \"_blend_final\")\n",
    "    return blend\n",
    "    \n",
    "def showImage(im):\n",
    "    plt.imshow(im, cmap=\"gray\")\n",
    "    plt.show()"
   ]
  },
  {
   "cell_type": "code",
   "execution_count": null,
   "id": "3de0f769",
   "metadata": {
    "scrolled": true
   },
   "outputs": [],
   "source": [
    "im1 = plt.imread(\"spline/apple.jpeg\")/255\n",
    "im2 = plt.imread(\"spline/orange.jpeg\")/255\n",
    "\n",
    "blended = blend(im1, im2, \"vertical\", 10, None, \"oraple\")"
   ]
  },
  {
   "cell_type": "code",
   "execution_count": null,
   "id": "8596433c",
   "metadata": {},
   "outputs": [],
   "source": [
    "im1 = plt.imread(\"spline/fire.jpg\")/255\n",
    "im2 = plt.imread(\"spline/ocean.jpg\")/255\n",
    "\n",
    "blended = blend(im1, im2, \"horizontal\", 10, None, \"ficean\")"
   ]
  },
  {
   "cell_type": "code",
   "execution_count": null,
   "id": "d68ba0b4",
   "metadata": {},
   "outputs": [],
   "source": [
    "im1 = plt.imread(\"spline/trump.jpg\")/255\n",
    "im2 = plt.imread(\"spline/space.jpg\")/255\n",
    "mask = plt.imread(\"spline/mask.jpg\")/255\n",
    "\n",
    "blended = blend(im1, im2, \"irregular\", 10, mask, \"spaceTrump\")"
   ]
  }
 ],
 "metadata": {
  "kernelspec": {
   "display_name": "Python 3",
   "language": "python",
   "name": "python3"
  },
  "language_info": {
   "codemirror_mode": {
    "name": "ipython",
    "version": 3
   },
   "file_extension": ".py",
   "mimetype": "text/x-python",
   "name": "python",
   "nbconvert_exporter": "python",
   "pygments_lexer": "ipython3",
   "version": "3.8.8"
  }
 },
 "nbformat": 4,
 "nbformat_minor": 5
}
